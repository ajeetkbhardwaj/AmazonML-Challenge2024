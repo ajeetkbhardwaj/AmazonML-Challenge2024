{
 "cells": [
  {
   "cell_type": "markdown",
   "id": "1b70b34e",
   "metadata": {},
   "source": [
    "### Basic library imports"
   ]
  },
  {
   "cell_type": "code",
   "execution_count": 2,
   "id": "719d15af",
   "metadata": {},
   "outputs": [],
   "source": [
    "import os\n",
    "import pandas as pd"
   ]
  },
  {
   "cell_type": "markdown",
   "id": "b8911e33",
   "metadata": {},
   "source": [
    "### Read Dataset"
   ]
  },
  {
   "cell_type": "code",
   "execution_count": 3,
   "id": "d3136aac",
   "metadata": {},
   "outputs": [],
   "source": [
    "DATASET_FOLDER = '../dataset/'\n",
    "train = pd.read_csv(os.path.join(DATASET_FOLDER, 'train.csv'))\n",
    "test = pd.read_csv(os.path.join(DATASET_FOLDER, 'test.csv'))\n",
    "sample_test = pd.read_csv(os.path.join(DATASET_FOLDER, 'sample_test.csv'))\n",
    "sample_test_out = pd.read_csv(os.path.join(DATASET_FOLDER, 'sample_test_out.csv'))"
   ]
  },
  {
   "cell_type": "markdown",
   "id": "60ebd689",
   "metadata": {},
   "source": [
    "### Run Sanity check using src/sanity.py"
   ]
  },
  {
   "cell_type": "code",
   "execution_count": 4,
   "id": "81bb3988",
   "metadata": {},
   "outputs": [
    {
     "name": "stdout",
     "output_type": "stream",
     "text": [
      "Parsing successfull for file: ../dataset/sample_test_out.csv\n"
     ]
    }
   ],
   "source": [
    "!python sanity.py --test_filename ../dataset/sample_test.csv --output_filename ../dataset/sample_test_out.csv"
   ]
  },
  {
   "cell_type": "code",
   "execution_count": 4,
   "id": "5aa79459",
   "metadata": {},
   "outputs": [
    {
     "name": "stdout",
     "output_type": "stream",
     "text": [
      "Error: Invalid unit [lbs] found in 6.75 lbs. Allowed units: {'millimetre', 'kilogram', 'kilovolt', 'fluid ounce', 'gram', 'foot', 'microlitre', 'volt', 'gallon', 'ounce', 'cup', 'milligram', 'pound', 'quart', 'millilitre', 'pint', 'metre', 'litre', 'imperial gallon', 'inch', 'kilowatt', 'watt', 'millivolt', 'centilitre', 'microgram', 'cubic foot', 'ton', 'yard', 'centimetre', 'decilitre', 'cubic inch'}\n"
     ]
    }
   ],
   "source": [
    "!python sanity.py --test_filename ../dataset/sample_test.csv --output_filename ../dataset/sample_test_out_fail.csv"
   ]
  },
  {
   "cell_type": "markdown",
   "id": "c40c717f",
   "metadata": {},
   "source": []
  },
  {
   "cell_type": "code",
   "execution_count": null,
   "id": "a1773cc1",
   "metadata": {},
   "outputs": [],
   "source": []
  },
  {
   "cell_type": "markdown",
   "id": "dbe930a8",
   "metadata": {},
   "source": [
    "### Download images"
   ]
  },
  {
   "cell_type": "code",
   "execution_count": 3,
   "id": "dedb6327",
   "metadata": {},
   "outputs": [
    {
     "name": "stderr",
     "output_type": "stream",
     "text": [
      "Exception in thread Thread-8:\n",
      "Traceback (most recent call last):\n",
      "  File \"c:\\Users\\sony.gosala\\.conda\\envs\\mne\\lib\\threading.py\", line 954, in _bootstrap_inner\n",
      "    self.run()\n",
      "  File \"c:\\Users\\sony.gosala\\.conda\\envs\\mne\\lib\\threading.py\", line 892, in run\n",
      "    self._target(*self._args, **self._kwargs)\n",
      "  File \"c:\\Users\\sony.gosala\\.conda\\envs\\mne\\lib\\multiprocessing\\pool.py\", line 519, in _handle_workers\n",
      "    cls._wait_for_updates(current_sentinels, change_notifier)\n",
      "  File \"c:\\Users\\sony.gosala\\.conda\\envs\\mne\\lib\\multiprocessing\\pool.py\", line 499, in _wait_for_updates\n",
      "    wait(sentinels, timeout=timeout)\n",
      "  File \"c:\\Users\\sony.gosala\\.conda\\envs\\mne\\lib\\multiprocessing\\connection.py\", line 884, in wait\n",
      "    ready_handles = _exhaustive_wait(waithandle_to_obj.keys(), timeout)\n",
      "  File \"c:\\Users\\sony.gosala\\.conda\\envs\\mne\\lib\\multiprocessing\\connection.py\", line 816, in _exhaustive_wait\n",
      "    res = _winapi.WaitForMultipleObjects(L, False, timeout)\n",
      "ValueError: need at most 63 handles, got a sequence of length 66\n",
      "  0%|          | 300/263859 [00:50<1:29:18, 49.18it/s] "
     ]
    }
   ],
   "source": [
    "from utils import download_images\n",
    "download_images(train['image_link'], '../images', allow_multiprocessing=True)"
   ]
  },
  {
   "cell_type": "code",
   "execution_count": 4,
   "id": "9eff9e61",
   "metadata": {},
   "outputs": [],
   "source": [
    "import pandas as p"
   ]
  },
  {
   "cell_type": "code",
   "execution_count": 5,
   "id": "a3d1aad8",
   "metadata": {},
   "outputs": [
    {
     "name": "stderr",
     "output_type": "stream",
     "text": [
      "Exception in thread Thread-10:\n",
      "Traceback (most recent call last):\n",
      "  File \"c:\\Users\\sony.gosala\\.conda\\envs\\mne\\lib\\threading.py\", line 954, in _bootstrap_inner\n",
      "    self.run()\n",
      "  File \"c:\\Users\\sony.gosala\\.conda\\envs\\mne\\lib\\threading.py\", line 892, in run\n",
      "    self._target(*self._args, **self._kwargs)\n",
      "  File \"c:\\Users\\sony.gosala\\.conda\\envs\\mne\\lib\\multiprocessing\\pool.py\", line 519, in _handle_workers\n",
      "  0%|          | 0/88 [00:00<?, ?it/s]    cls._wait_for_updates(current_sentinels, change_notifier)\n",
      "  File \"c:\\Users\\sony.gosala\\.conda\\envs\\mne\\lib\\multiprocessing\\pool.py\", line 499, in _wait_for_updates\n",
      "    wait(sentinels, timeout=timeout)\n",
      "  File \"c:\\Users\\sony.gosala\\.conda\\envs\\mne\\lib\\multiprocessing\\connection.py\", line 884, in wait\n",
      "    ready_handles = _exhaustive_wait(waithandle_to_obj.keys(), timeout)\n",
      "  File \"c:\\Users\\sony.gosala\\.conda\\envs\\mne\\lib\\multiprocessing\\connection.py\", line 816, in _exhaustive_wait\n",
      "    res = _winapi.WaitForMultipleObjects(L, False, timeout)\n",
      "ValueError: need at most 63 handles, got a sequence of length 66\n",
      "100%|██████████| 88/88 [00:38<00:00,  2.28it/s]\n"
     ]
    }
   ],
   "source": [
    "from utils import download_images\n",
    "download_images(sample_test['image_link'], '../images')"
   ]
  },
  {
   "cell_type": "code",
   "execution_count": 3,
   "id": "89aaba53",
   "metadata": {},
   "outputs": [],
   "source": [
    "assert len(os.listdir('../images')) > 0"
   ]
  },
  {
   "cell_type": "code",
   "execution_count": null,
   "id": "d97db0d6",
   "metadata": {},
   "outputs": [],
   "source": [
    "rm -rf os.listdir('../imag')"
   ]
  },
  {
   "cell_type": "code",
   "execution_count": 4,
   "id": "1ba3d802",
   "metadata": {},
   "outputs": [
    {
     "ename": "SyntaxError",
     "evalue": "invalid syntax (<ipython-input-4-c7c91e309c4c>, line 1)",
     "output_type": "error",
     "traceback": [
      "\u001b[1;36m  File \u001b[1;32m\"<ipython-input-4-c7c91e309c4c>\"\u001b[1;36m, line \u001b[1;32m1\u001b[0m\n\u001b[1;33m    rm -rf ../images\u001b[0m\n\u001b[1;37m            ^\u001b[0m\n\u001b[1;31mSyntaxError\u001b[0m\u001b[1;31m:\u001b[0m invalid syntax\n"
     ]
    }
   ],
   "source": [
    "rm -rf ../images"
   ]
  },
  {
   "cell_type": "code",
   "execution_count": null,
   "id": "6c38a641",
   "metadata": {},
   "outputs": [],
   "source": []
  }
 ],
 "metadata": {
  "kernelspec": {
   "display_name": "mne",
   "language": "python",
   "name": "python3"
  },
  "language_info": {
   "codemirror_mode": {
    "name": "ipython",
    "version": 3
   },
   "file_extension": ".py",
   "mimetype": "text/x-python",
   "name": "python",
   "nbconvert_exporter": "python",
   "pygments_lexer": "ipython3",
   "version": "3.9.4"
  }
 },
 "nbformat": 4,
 "nbformat_minor": 5
}
